{
 "cells": [
  {
   "cell_type": "markdown",
   "id": "421ae5b1",
   "metadata": {},
   "source": [
    "# Assignment 03"
   ]
  },
  {
   "cell_type": "markdown",
   "id": "5200766d",
   "metadata": {},
   "source": [
    "## 1) Write a Python program to sum all the numeric items in a list?"
   ]
  },
  {
   "cell_type": "code",
   "execution_count": 1,
   "id": "00bbfc34",
   "metadata": {},
   "outputs": [
    {
     "name": "stdout",
     "output_type": "stream",
     "text": [
      "Sum of numeric items:  74.5\n"
     ]
    }
   ],
   "source": [
    "mylist = [1 , 2.5 , \"Sana\", True, False, 25, 46]\n",
    "\n",
    "total_sum = 0\n",
    "\n",
    "for item in mylist:\n",
    "    if type(item) in (int, float):\n",
    "        total_sum += item\n",
    "print(\"Sum of numeric items: \", total_sum)\n"
   ]
  },
  {
   "cell_type": "markdown",
   "id": "81ec4315",
   "metadata": {},
   "source": [
    "## 2) Write a Python program to get the largest number from a numeric list."
   ]
  },
  {
   "cell_type": "code",
   "execution_count": 2,
   "id": "58223ab5",
   "metadata": {},
   "outputs": [
    {
     "data": {
      "text/plain": [
       "200.5"
      ]
     },
     "execution_count": 2,
     "metadata": {},
     "output_type": "execute_result"
    }
   ],
   "source": [
    "# simple way to get the largest num\n",
    "num_list = [12,45.6,100,78,56,48,200.5,49.3]\n",
    "max(num_list)"
   ]
  },
  {
   "cell_type": "code",
   "execution_count": 3,
   "id": "f6fe15e8",
   "metadata": {},
   "outputs": [
    {
     "name": "stdout",
     "output_type": "stream",
     "text": [
      "Sorted numbers:  [12, 45.6, 48, 49.3, 56, 78, 100, 200.5]\n",
      "The largest number is in the list:  200.5\n"
     ]
    }
   ],
   "source": [
    "## another way\n",
    "\n",
    "num = sorted(num_list)\n",
    "print(\"Sorted numbers: \", num)\n",
    "\n",
    "largest_num = num[-1] \n",
    "print(\"The largest number is in the list: \" , largest_num)"
   ]
  },
  {
   "cell_type": "markdown",
   "id": "32b34e94",
   "metadata": {},
   "source": [
    "## 3) Take a list, say for example this one:\n",
    "a = [1, 1, 2, 3, 5, 8, 13, 21, 34, 55, 89]\n",
    "\n",
    "**Write a program that prints out all the elements of the list that are less than 5.**"
   ]
  },
  {
   "cell_type": "code",
   "execution_count": 4,
   "id": "92a73605",
   "metadata": {},
   "outputs": [
    {
     "name": "stdout",
     "output_type": "stream",
     "text": [
      "less than 5 number in this list : 1\n",
      "less than 5 number in this list : 1\n",
      "less than 5 number in this list : 2\n",
      "less than 5 number in this list : 3\n",
      "4\n"
     ]
    }
   ],
   "source": [
    "a = [1, 1, 2, 3, 5, 8, 13, 21, 34, 55, 89]\n",
    "\n",
    "count= 0\n",
    "for item in a:\n",
    "    if item < 5:\n",
    "        count += 1\n",
    "        print(\"less than 5 number in this list :\", item)\n",
    "\n",
    "print(count)\n"
   ]
  },
  {
   "cell_type": "markdown",
   "id": "614d4ef2",
   "metadata": {},
   "source": [
    "# Assignment 04"
   ]
  },
  {
   "cell_type": "markdown",
   "id": "8d6652d3",
   "metadata": {},
   "source": [
    "## 1)  Write a program to check if there is any numeric value in list using for loop."
   ]
  },
  {
   "cell_type": "code",
   "execution_count": 5,
   "id": "3a8f1e78",
   "metadata": {},
   "outputs": [
    {
     "name": "stdout",
     "output_type": "stream",
     "text": [
      "There is no numeric value\n",
      "There is numeric value\n",
      "There is no numeric value\n",
      "There is no numeric value\n",
      "There is numeric value\n",
      "There is numeric value\n",
      "There is no numeric value\n",
      "Total numeric value count is:  3\n"
     ]
    }
   ],
   "source": [
    "num_value_in_list = [True, 200, \"Ahmed\", False, 45, 20.5, \"abc@gmail.com\"]\n",
    "num_value_in_list\n",
    "\n",
    "count = 0\n",
    "for item in num_value_in_list:\n",
    "    if type(item) in (int,float):\n",
    "        count += 1\n",
    "        print(\"There is numeric value\")\n",
    "    else:\n",
    "        print(\"There is no numeric value\")\n",
    "\n",
    "print(\"Total numeric value count is: \" , count)"
   ]
  },
  {
   "cell_type": "markdown",
   "id": "8dcdb572",
   "metadata": {},
   "source": [
    "## 2) Write a Python script to add a key to a dictionary."
   ]
  },
  {
   "cell_type": "code",
   "execution_count": 6,
   "id": "e44febde",
   "metadata": {},
   "outputs": [
    {
     "data": {
      "text/plain": [
       "{'name': 'khusnoor', 'age': 23, 'city': 'karachi', 'state': 'Sindh'}"
      ]
     },
     "execution_count": 6,
     "metadata": {},
     "output_type": "execute_result"
    }
   ],
   "source": [
    "\n",
    "my_dict = {\n",
    "    \"name\": \"khusnoor\",\n",
    "    \"age\": 23,\n",
    "    \"city\": \"karachi\"\n",
    "}\n",
    "\n",
    "my_dict[\"state\"] = \"Sindh\"\n",
    "my_dict"
   ]
  },
  {
   "cell_type": "markdown",
   "id": "d3f04b1e",
   "metadata": {},
   "source": [
    "## 3) Write a Python program to sum all the numeric items in a dictionary."
   ]
  },
  {
   "cell_type": "code",
   "execution_count": 7,
   "id": "35e8edfb",
   "metadata": {},
   "outputs": [
    {
     "name": "stdout",
     "output_type": "stream",
     "text": [
      "Total sum of all numeric item in dict is:  45.5\n"
     ]
    }
   ],
   "source": [
    "sum_of_num_item = {\n",
    "    \"val1\": 20,\n",
    "    \"val2\": 13.5,\n",
    "    \"val3\": \"there is no num value\",\n",
    "    \"val4\": 12    \n",
    "}\n",
    "\n",
    "total_sum = 0\n",
    "for num in sum_of_num_item.values():\n",
    "    if type(num) in (int,float):\n",
    "        total_sum += num\n",
    "         \n",
    "print(\"Total sum of all numeric item in dict is: \",total_sum)\n",
    "        "
   ]
  },
  {
   "cell_type": "markdown",
   "id": "ddf11ccd",
   "metadata": {},
   "source": [
    "## 4) Write a program to identify duplicate values from list."
   ]
  },
  {
   "cell_type": "code",
   "execution_count": 8,
   "id": "25d69d36",
   "metadata": {},
   "outputs": [
    {
     "name": "stdout",
     "output_type": "stream",
     "text": [
      "Duplicate values: [4, 78]\n"
     ]
    }
   ],
   "source": [
    "my_list = [1, 2, 3, 4, 4, 8, 6, 78, 79, 78]\n",
    "\n",
    "duplicates = []\n",
    "uniq = set()\n",
    "\n",
    "for item in my_list:\n",
    "    if item in uniq:\n",
    "        duplicates.append(item)\n",
    "    else:\n",
    "        uniq.add(item)\n",
    "\n",
    "print(\"Duplicate values:\", duplicates)\n"
   ]
  },
  {
   "cell_type": "markdown",
   "id": "c8c47a63",
   "metadata": {},
   "source": [
    "## 5) Write a Python script to check if a given key already exists in a dictionary"
   ]
  },
  {
   "cell_type": "code",
   "execution_count": 9,
   "id": "976dfc88",
   "metadata": {},
   "outputs": [
    {
     "name": "stdout",
     "output_type": "stream",
     "text": [
      "key is present\n"
     ]
    }
   ],
   "source": [
    "my_dict = {\n",
    "    \"name\": \"John\",\n",
    "    \"age\": 30,\n",
    "    \"city\": \"New York\"\n",
    "}\n",
    "\n",
    "if my_dict.get(\"age\"):\n",
    "    print(\"key is present\")\n",
    "else:\n",
    "    print(\"key is not present\")\n",
    "    "
   ]
  }
 ],
 "metadata": {
  "kernelspec": {
   "display_name": "Python 3 (ipykernel)",
   "language": "python",
   "name": "python3"
  },
  "language_info": {
   "codemirror_mode": {
    "name": "ipython",
    "version": 3
   },
   "file_extension": ".py",
   "mimetype": "text/x-python",
   "name": "python",
   "nbconvert_exporter": "python",
   "pygments_lexer": "ipython3",
   "version": "3.9.12"
  }
 },
 "nbformat": 4,
 "nbformat_minor": 5
}
