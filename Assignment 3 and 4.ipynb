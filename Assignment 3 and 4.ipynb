{
 "cells": [
  {
   "cell_type": "markdown",
   "id": "421ae5b1",
   "metadata": {},
   "source": [
    "# ***Assignment 03***"
   ]
  },
  {
   "cell_type": "markdown",
   "id": "3dc409f6",
   "metadata": {},
   "source": [
    "## 1. Write a Python program to print the following string in a specific format (see the output).\n",
    "\n",
    "    Twinkle, twinkle, little star,\n",
    "            How I wonder what you are!\n",
    "                    Up above the world so high,\n",
    "                    Like a diamond in the sky.\n",
    "    Twinkle, twinkle, little star,\n",
    "            How I wonder what you are!\n",
    "            "
   ]
  },
  {
   "cell_type": "code",
   "execution_count": 1,
   "id": "591822d0",
   "metadata": {},
   "outputs": [
    {
     "name": "stdout",
     "output_type": "stream",
     "text": [
      "          Twinkle, twinkle, little star,\n",
      "                   How I wonder what you are!\n",
      "                        Up above the world so high,\n",
      "                        Like a diamond in the sky\n",
      "          Twinkle, twinkle, little star,\n",
      "                   How I wonder what you are!      \n"
     ]
    }
   ],
   "source": [
    "print(\"\"\"          Twinkle, twinkle, little star,\n",
    "                   How I wonder what you are!\n",
    "                        Up above the world so high,\n",
    "                        Like a diamond in the sky\n",
    "          Twinkle, twinkle, little star,\n",
    "                   How I wonder what you are!      \"\"\")"
   ]
  },
  {
   "cell_type": "markdown",
   "id": "6aac8d11",
   "metadata": {},
   "source": [
    "## 2. Write a Python program to get the Python version you are using"
   ]
  },
  {
   "cell_type": "code",
   "execution_count": 2,
   "id": "0dd72da8",
   "metadata": {},
   "outputs": [
    {
     "name": "stdout",
     "output_type": "stream",
     "text": [
      "3.9.12\n"
     ]
    }
   ],
   "source": [
    "from platform import python_version\n",
    "print(python_version())"
   ]
  },
  {
   "cell_type": "markdown",
   "id": "c26401b1",
   "metadata": {},
   "source": [
    "## 3. Write a Python program to display the current date and time."
   ]
  },
  {
   "cell_type": "code",
   "execution_count": 3,
   "id": "0c8b0adc",
   "metadata": {},
   "outputs": [
    {
     "data": {
      "text/plain": [
       "datetime.datetime(2023, 8, 18, 21, 39, 37, 475921)"
      ]
     },
     "execution_count": 3,
     "metadata": {},
     "output_type": "execute_result"
    }
   ],
   "source": [
    "import datetime\n",
    "date = datetime.datetime.now()\n",
    "date"
   ]
  },
  {
   "cell_type": "markdown",
   "id": "3257553a",
   "metadata": {},
   "source": [
    "## 4. Write a Python program which accepts the radius of a circle from the user and compute the area."
   ]
  },
  {
   "cell_type": "code",
   "execution_count": 4,
   "id": "4561e5bc",
   "metadata": {},
   "outputs": [
    {
     "name": "stdout",
     "output_type": "stream",
     "text": [
      "Enter radius of circle : 12\n",
      "Area of the circle is: 452.3893421169302\n"
     ]
    }
   ],
   "source": [
    "from math import pi\n",
    "\n",
    "r = float(input (\"Enter radius of circle : \"))\n",
    "\n",
    "print (\"Area of the circle is: \" + str(pi * r**2))"
   ]
  },
  {
   "cell_type": "markdown",
   "id": "1bb5ccd9",
   "metadata": {},
   "source": [
    "## 5. Write a Python program which accepts the user's first and last name and print them in reverse order with a space between them."
   ]
  },
  {
   "cell_type": "code",
   "execution_count": 5,
   "id": "3bfeef08",
   "metadata": {},
   "outputs": [
    {
     "name": "stdout",
     "output_type": "stream",
     "text": [
      "Enter you are first name: khus\n",
      "Enter you are last name: noor\n",
      "noor khus\n"
     ]
    }
   ],
   "source": [
    "first_name = input(\"Enter you are first name: \")\n",
    "last_name = input(\"Enter you are last name: \")\n",
    "print(last_name + \" \" + first_name)"
   ]
  },
  {
   "cell_type": "markdown",
   "id": "4ae40b71",
   "metadata": {},
   "source": [
    "## 6. Write a python program which takes two inputs from user and print them addition"
   ]
  },
  {
   "cell_type": "code",
   "execution_count": 6,
   "id": "cd514650",
   "metadata": {},
   "outputs": [
    {
     "name": "stdout",
     "output_type": "stream",
     "text": [
      "1st num: 12\n",
      "2nd num: 1\n",
      "Total:  13\n"
     ]
    }
   ],
   "source": [
    "num1 = int(input(\"1st num: \"))\n",
    "num2 = int(input(\"2nd num: \"))\n",
    "print(\"Total: \",num1 + num2)"
   ]
  },
  {
   "cell_type": "markdown",
   "id": "1ff95db8",
   "metadata": {},
   "source": [
    "## 7. Write a program which takes 5 inputs from user for different subject’s marks, total it and generate mark sheet using grades ?"
   ]
  },
  {
   "cell_type": "code",
   "execution_count": 7,
   "id": "a369fa75",
   "metadata": {},
   "outputs": [
    {
     "name": "stdout",
     "output_type": "stream",
     "text": [
      "Enter your eng marks: 46\n",
      "Enter your math marks: 48\n",
      "Enter your isl marks: 46\n",
      "Enter your phys marks: 98\n",
      "Enter your chem marks: 46\n"
     ]
    }
   ],
   "source": [
    "eng = int(input(\"Enter your eng marks: \"))\n",
    "math = int(input(\"Enter your math marks: \"))\n",
    "isl = int(input(\"Enter your isl marks: \"))\n",
    "phys = int(input(\"Enter your phys marks: \"))\n",
    "chem = int(input(\"Enter your chem marks: \"))"
   ]
  },
  {
   "cell_type": "code",
   "execution_count": 8,
   "id": "dc8bd30f",
   "metadata": {},
   "outputs": [
    {
     "data": {
      "text/plain": [
       "284"
      ]
     },
     "execution_count": 8,
     "metadata": {},
     "output_type": "execute_result"
    }
   ],
   "source": [
    "total_marks = 500\n",
    "obtained_marks = eng + math + phys + chem + isl\n",
    "obtained_marks"
   ]
  },
  {
   "cell_type": "code",
   "execution_count": 9,
   "id": "6b378815",
   "metadata": {},
   "outputs": [
    {
     "data": {
      "text/plain": [
       "56.8"
      ]
     },
     "execution_count": 9,
     "metadata": {},
     "output_type": "execute_result"
    }
   ],
   "source": [
    "perc = obtained_marks/total_marks * 100\n",
    "perc"
   ]
  },
  {
   "cell_type": "code",
   "execution_count": 10,
   "id": "3c5d90a5",
   "metadata": {},
   "outputs": [
    {
     "name": "stdout",
     "output_type": "stream",
     "text": [
      "C\n"
     ]
    }
   ],
   "source": [
    "if perc <= 100 and perc >= 80:\n",
    "    print(\"A+\")\n",
    "elif perc < 80 and perc >= 70:\n",
    "    print(\"A\")\n",
    "elif perc < 70 and perc >= 60:\n",
    "    print(\"B\")\n",
    "elif perc < 60 and perc >= 50:\n",
    "    print(\"C\")\n",
    "elif perc < 50 and perc >= 40:\n",
    "    print(\"D\")\n",
    "elif perc < 40 and perc >= 33:\n",
    "    print(\"E\")\n",
    "elif perc < 0 or perc > 100:\n",
    "    print(\"error\")\n",
    "else:\n",
    "    print(\"Fail\")"
   ]
  },
  {
   "cell_type": "markdown",
   "id": "299e1a7e",
   "metadata": {},
   "source": [
    "## 8. Write a program which take input from user and identify that the given number is even or odd?"
   ]
  },
  {
   "cell_type": "code",
   "execution_count": 11,
   "id": "544167ea",
   "metadata": {},
   "outputs": [
    {
     "name": "stdout",
     "output_type": "stream",
     "text": [
      "Enter a number: 23\n",
      "23 is an odd number\n"
     ]
    }
   ],
   "source": [
    "number = int(input(\"Enter a number: \"))\n",
    "if number % 2 == 0:\n",
    "    print(number, \"is an even number\")\n",
    "else:\n",
    "    print(number, \"is an odd number\")"
   ]
  },
  {
   "cell_type": "markdown",
   "id": "fba3c0ea",
   "metadata": {},
   "source": [
    "## 9. Write a program which print the length of the list?"
   ]
  },
  {
   "cell_type": "code",
   "execution_count": 12,
   "id": "7e5681f8",
   "metadata": {},
   "outputs": [
    {
     "data": {
      "text/plain": [
       "6"
      ]
     },
     "execution_count": 12,
     "metadata": {},
     "output_type": "execute_result"
    }
   ],
   "source": [
    "len_of_list = [\"Ahmed\", 123, 45.233, True, False, \"abc@gmail.com\"]\n",
    "len(len_of_list)"
   ]
  },
  {
   "cell_type": "markdown",
   "id": "5200766d",
   "metadata": {},
   "source": [
    "## 10. Write a Python program to sum all the numeric items in a list?"
   ]
  },
  {
   "cell_type": "code",
   "execution_count": 13,
   "id": "00bbfc34",
   "metadata": {},
   "outputs": [
    {
     "name": "stdout",
     "output_type": "stream",
     "text": [
      "Sum of numeric items:  74.5\n"
     ]
    }
   ],
   "source": [
    "mylist = [1 , 2.5 , \"Sana\", True, False, 25, 46]\n",
    "\n",
    "total_sum = 0\n",
    "\n",
    "for item in mylist:\n",
    "    if type(item) in (int, float):\n",
    "        total_sum += item\n",
    "print(\"Sum of numeric items: \", total_sum)\n"
   ]
  },
  {
   "cell_type": "markdown",
   "id": "81ec4315",
   "metadata": {},
   "source": [
    "## 11. Write a Python program to get the largest number from a numeric list."
   ]
  },
  {
   "cell_type": "code",
   "execution_count": 14,
   "id": "58223ab5",
   "metadata": {},
   "outputs": [
    {
     "data": {
      "text/plain": [
       "200.5"
      ]
     },
     "execution_count": 14,
     "metadata": {},
     "output_type": "execute_result"
    }
   ],
   "source": [
    "# simple way to get the largest num\n",
    "num_list = [12,45.6,100,78,56,48,200.5,49.3]\n",
    "max(num_list)"
   ]
  },
  {
   "cell_type": "code",
   "execution_count": 15,
   "id": "f6fe15e8",
   "metadata": {},
   "outputs": [
    {
     "name": "stdout",
     "output_type": "stream",
     "text": [
      "Sorted numbers:  [12, 45.6, 48, 49.3, 56, 78, 100, 200.5]\n",
      "The largest number is in the list:  200.5\n"
     ]
    }
   ],
   "source": [
    "## another way\n",
    "\n",
    "num = sorted(num_list)\n",
    "print(\"Sorted numbers: \", num)\n",
    "\n",
    "largest_num = num[-1] \n",
    "print(\"The largest number is in the list: \" , largest_num)"
   ]
  },
  {
   "cell_type": "markdown",
   "id": "32b34e94",
   "metadata": {},
   "source": [
    "## 12. Take a list, say for example this one:\n",
    "a = [1, 1, 2, 3, 5, 8, 13, 21, 34, 55, 89]\n",
    "\n",
    "**Write a program that prints out all the elements of the list that are less than 5.**"
   ]
  },
  {
   "cell_type": "code",
   "execution_count": 16,
   "id": "92a73605",
   "metadata": {},
   "outputs": [
    {
     "name": "stdout",
     "output_type": "stream",
     "text": [
      "less than 5 number in this list : 1\n",
      "less than 5 number in this list : 1\n",
      "less than 5 number in this list : 2\n",
      "less than 5 number in this list : 3\n",
      "The count is :  4\n"
     ]
    }
   ],
   "source": [
    "a = [1, 1, 2, 3, 5, 8, 13, 21, 34, 55, 89]\n",
    "\n",
    "count= 0\n",
    "for item in a:\n",
    "    if item < 5:\n",
    "        count += 1\n",
    "        print(\"less than 5 number in this list :\", item)\n",
    "\n",
    "print(\"The count is : \", count)\n"
   ]
  },
  {
   "cell_type": "markdown",
   "id": "614d4ef2",
   "metadata": {},
   "source": [
    "# ***Assignment 04***"
   ]
  },
  {
   "cell_type": "markdown",
   "id": "8fe28009",
   "metadata": {},
   "source": [
    "## 1. Make a calculator using Python with addition , subtraction , multiplication ,division and power."
   ]
  },
  {
   "cell_type": "code",
   "execution_count": 17,
   "id": "d062c755",
   "metadata": {},
   "outputs": [
    {
     "name": "stdout",
     "output_type": "stream",
     "text": [
      "Enter your 1st value : 12\n",
      "Enter your 2nd value : 2\n",
      "Enter your operator +,-,*,/,** : **\n",
      "Take the power of the val :  144\n"
     ]
    }
   ],
   "source": [
    "## take a input by user\n",
    "\n",
    "val1 = int(input(\"Enter your 1st value : \")) \n",
    "val2 = int(input(\"Enter your 2nd value : \"))         \n",
    "operater = input(\"Enter your operator +,-,*,/,** : \")\n",
    "\n",
    "\n",
    "# make if elif else condition:\n",
    "\n",
    "if operater == \"+\":\n",
    "    print(\"Add the both value : \", val1 + val2)\n",
    "    \n",
    "elif operater == \"-\":\n",
    "    print(\"sub the both value : \", val1 - val2)\n",
    "    \n",
    "elif operater == \"*\":\n",
    "    print(\"multiply the both value : \", val1 * val2)\n",
    "\n",
    "elif operater == \"/\":\n",
    "    print(\"divide the both value : \", val1 / val2)\n",
    "    \n",
    "elif operater == \"**\":\n",
    "    print(\"Take the power of the val : \", val1 ** val2)\n",
    "\n",
    "else:\n",
    "    print(\"invalid operator...\")"
   ]
  },
  {
   "cell_type": "markdown",
   "id": "8d6652d3",
   "metadata": {},
   "source": [
    "## 2.  Write a program to check if there is any numeric value in list using for loop."
   ]
  },
  {
   "cell_type": "code",
   "execution_count": 18,
   "id": "3a8f1e78",
   "metadata": {},
   "outputs": [
    {
     "name": "stdout",
     "output_type": "stream",
     "text": [
      "There is no numeric value\n",
      "There is numeric value\n",
      "There is no numeric value\n",
      "There is no numeric value\n",
      "There is numeric value\n",
      "There is numeric value\n",
      "There is no numeric value\n",
      "Total numeric value count is:  3\n"
     ]
    }
   ],
   "source": [
    "num_value_in_list = [True, 200, \"Ahmed\", False, 45, 20.5, \"abc@gmail.com\"]\n",
    "num_value_in_list\n",
    "\n",
    "count = 0\n",
    "for item in num_value_in_list:\n",
    "    if type(item) in (int,float):\n",
    "        count += 1\n",
    "        print(\"There is numeric value\")\n",
    "    else:\n",
    "        print(\"There is no numeric value\")\n",
    "\n",
    "print(\"Total numeric value count is: \" , count)"
   ]
  },
  {
   "cell_type": "markdown",
   "id": "8dcdb572",
   "metadata": {},
   "source": [
    "## 3. Write a Python script to add a key to a dictionary."
   ]
  },
  {
   "cell_type": "code",
   "execution_count": 19,
   "id": "e44febde",
   "metadata": {},
   "outputs": [
    {
     "data": {
      "text/plain": [
       "{'name': 'khusnoor', 'age': 23, 'city': 'karachi', 'state': 'Sindh'}"
      ]
     },
     "execution_count": 19,
     "metadata": {},
     "output_type": "execute_result"
    }
   ],
   "source": [
    "\n",
    "my_dict = {\n",
    "    \"name\": \"khusnoor\",\n",
    "    \"age\": 23,\n",
    "    \"city\": \"karachi\"\n",
    "}\n",
    "\n",
    "my_dict[\"state\"] = \"Sindh\"\n",
    "my_dict"
   ]
  },
  {
   "cell_type": "markdown",
   "id": "d3f04b1e",
   "metadata": {},
   "source": [
    "## 4. Write a Python program to sum all the numeric items in a dictionary."
   ]
  },
  {
   "cell_type": "code",
   "execution_count": 20,
   "id": "35e8edfb",
   "metadata": {},
   "outputs": [
    {
     "name": "stdout",
     "output_type": "stream",
     "text": [
      "Total sum of all numeric item in dict is:  45.5\n"
     ]
    }
   ],
   "source": [
    "sum_of_num_item = {\n",
    "    \"val1\": 20,\n",
    "    \"val2\": 13.5,\n",
    "    \"val3\": \"there is no num value\",\n",
    "    \"val4\": 12    \n",
    "}\n",
    "\n",
    "total_sum = 0\n",
    "for num in sum_of_num_item.values():\n",
    "    if type(num) in (int,float):\n",
    "        total_sum += num\n",
    "         \n",
    "print(\"Total sum of all numeric item in dict is: \",total_sum)\n",
    "        "
   ]
  },
  {
   "cell_type": "markdown",
   "id": "ddf11ccd",
   "metadata": {},
   "source": [
    "## 5. Write a program to identify duplicate values from list."
   ]
  },
  {
   "cell_type": "code",
   "execution_count": 21,
   "id": "25d69d36",
   "metadata": {},
   "outputs": [
    {
     "name": "stdout",
     "output_type": "stream",
     "text": [
      "Duplicate values: [4, 78]\n"
     ]
    }
   ],
   "source": [
    "my_list = [1, 2, 3, 4, 4, 8, 6, 78, 79, 78]\n",
    "\n",
    "duplicates = []\n",
    "uniq = set()\n",
    "\n",
    "for item in my_list:\n",
    "    if item in uniq:\n",
    "        duplicates.append(item)\n",
    "    else:\n",
    "        uniq.add(item)\n",
    "\n",
    "print(\"Duplicate values:\", duplicates)\n"
   ]
  },
  {
   "cell_type": "markdown",
   "id": "c8c47a63",
   "metadata": {},
   "source": [
    "## 6. Write a Python script to check if a given key already exists in a dictionary"
   ]
  },
  {
   "cell_type": "code",
   "execution_count": 22,
   "id": "976dfc88",
   "metadata": {},
   "outputs": [
    {
     "name": "stdout",
     "output_type": "stream",
     "text": [
      "key is present\n"
     ]
    }
   ],
   "source": [
    "my_dict = {\n",
    "    \"name\": \"John\",\n",
    "    \"age\": 30,\n",
    "    \"city\": \"New York\"\n",
    "}\n",
    "\n",
    "if my_dict.get(\"age\"):\n",
    "    print(\"key is present\")\n",
    "else:\n",
    "    print(\"key is not present\")\n",
    "    "
   ]
  }
 ],
 "metadata": {
  "kernelspec": {
   "display_name": "Python 3 (ipykernel)",
   "language": "python",
   "name": "python3"
  },
  "language_info": {
   "codemirror_mode": {
    "name": "ipython",
    "version": 3
   },
   "file_extension": ".py",
   "mimetype": "text/x-python",
   "name": "python",
   "nbconvert_exporter": "python",
   "pygments_lexer": "ipython3",
   "version": "3.9.12"
  }
 },
 "nbformat": 4,
 "nbformat_minor": 5
}
