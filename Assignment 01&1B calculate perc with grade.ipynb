{
 "cells": [
  {
   "cell_type": "markdown",
   "id": "02db33b0",
   "metadata": {},
   "source": [
    "# 1) Take input marks of Eng, Isl and Maths out of 100 in 3 different variable "
   ]
  },
  {
   "cell_type": "code",
   "execution_count": 1,
   "id": "6363d073",
   "metadata": {},
   "outputs": [
    {
     "name": "stdout",
     "output_type": "stream",
     "text": [
      "Enter your eng marks: 30\n",
      "Enter your isl marks: 40\n",
      "Enter your math marks: 80\n"
     ]
    }
   ],
   "source": [
    "eng = int(input(\"Enter your eng marks: \"))\n",
    "isl = int(input(\"Enter your isl marks: \"))\n",
    "math = int(input(\"Enter your math marks: \"))"
   ]
  },
  {
   "cell_type": "markdown",
   "id": "202cba01",
   "metadata": {},
   "source": [
    "# 2) Mentioned Variable of Total Marks and assign 300 to it \n"
   ]
  },
  {
   "cell_type": "code",
   "execution_count": 2,
   "id": "ae353ea8",
   "metadata": {},
   "outputs": [
    {
     "data": {
      "text/plain": [
       "150"
      ]
     },
     "execution_count": 2,
     "metadata": {},
     "output_type": "execute_result"
    }
   ],
   "source": [
    "obtained_marks = eng + isl + math\n",
    "obtained_marks\n"
   ]
  },
  {
   "cell_type": "code",
   "execution_count": 3,
   "id": "44fabaed",
   "metadata": {},
   "outputs": [
    {
     "data": {
      "text/plain": [
       "300"
      ]
     },
     "execution_count": 3,
     "metadata": {},
     "output_type": "execute_result"
    }
   ],
   "source": [
    "total_marks = 300\n",
    "total_marks"
   ]
  },
  {
   "cell_type": "markdown",
   "id": "0dc9515d",
   "metadata": {},
   "source": [
    "# 3) Calculate percentage\n"
   ]
  },
  {
   "cell_type": "code",
   "execution_count": 4,
   "id": "78de12d7",
   "metadata": {},
   "outputs": [
    {
     "data": {
      "text/plain": [
       "50.0"
      ]
     },
     "execution_count": 4,
     "metadata": {},
     "output_type": "execute_result"
    }
   ],
   "source": [
    "perc = obtained_marks/total_marks * 100\n",
    "perc"
   ]
  },
  {
   "cell_type": "markdown",
   "id": "be43b172",
   "metadata": {},
   "source": [
    "# 4) Mentioned grade using conditional statement  "
   ]
  },
  {
   "cell_type": "code",
   "execution_count": 5,
   "id": "95586514",
   "metadata": {},
   "outputs": [
    {
     "name": "stdout",
     "output_type": "stream",
     "text": [
      "C\n"
     ]
    }
   ],
   "source": [
    "if perc <=100 and perc >= 80:\n",
    "    print(\"A+\")\n",
    "elif perc < 80 and perc >= 70:\n",
    "    print(\"A\")\n",
    "elif perc < 70 and perc >= 60:\n",
    "    print(\"B\")\n",
    "elif perc < 60 and perc >= 50:\n",
    "    print(\"C\")\n",
    "elif perc < 50 and perc >= 40:\n",
    "    print(\"D\")\n",
    "elif perc < 40 and perc >= 33:\n",
    "    print(\"E\")\n",
    "elif perc > 100 or perc < 0:\n",
    "    print(\"error\")\n",
    "else:\n",
    "    print(\"fail\")\n"
   ]
  },
  {
   "cell_type": "markdown",
   "id": "b5bacf9e",
   "metadata": {},
   "source": [
    "# Assignment 1B"
   ]
  },
  {
   "cell_type": "markdown",
   "id": "bc373496",
   "metadata": {},
   "source": [
    "# 1) write a python program to print the following string in a specific formate(see the output)\n",
    "\n",
    "        Twinkle, twinkle, little star,\n",
    "                How I wonder what you are!\n",
    "                        Up above the world so high,\n",
    "                        Like a diamond in the sky.\n",
    "        Twinkle, twinkle, little star,\n",
    "                How I wonder what you are!\n",
    "\n"
   ]
  },
  {
   "cell_type": "code",
   "execution_count": 6,
   "id": "6afadeda",
   "metadata": {},
   "outputs": [
    {
     "name": "stdout",
     "output_type": "stream",
     "text": [
      "          Twinkle, twinkle, little star,\n",
      "                   How I wonder what you are!\n",
      "                        Up above the world so high,\n",
      "                        Like a diamond in the sky\n",
      "          Twinkle, twinkle, little star,\n",
      "                   How I wonder what you are!      \n"
     ]
    }
   ],
   "source": [
    "print(\"\"\"          Twinkle, twinkle, little star,\n",
    "                   How I wonder what you are!\n",
    "                        Up above the world so high,\n",
    "                        Like a diamond in the sky\n",
    "          Twinkle, twinkle, little star,\n",
    "                   How I wonder what you are!      \"\"\")"
   ]
  },
  {
   "cell_type": "markdown",
   "id": "1884898e",
   "metadata": {},
   "source": [
    "# 2) Write a python program to get the python version you are using "
   ]
  },
  {
   "cell_type": "code",
   "execution_count": 7,
   "id": "10fc2090",
   "metadata": {},
   "outputs": [
    {
     "name": "stdout",
     "output_type": "stream",
     "text": [
      "3.9.12\n"
     ]
    }
   ],
   "source": [
    "from platform import python_version\n",
    "print(python_version())"
   ]
  },
  {
   "cell_type": "markdown",
   "id": "1fc8c09d",
   "metadata": {},
   "source": [
    "# 3) write a python program to display the current date and time "
   ]
  },
  {
   "cell_type": "code",
   "execution_count": 8,
   "id": "d2a0d5a3",
   "metadata": {},
   "outputs": [],
   "source": [
    "import datetime"
   ]
  },
  {
   "cell_type": "code",
   "execution_count": 9,
   "id": "58e5e762",
   "metadata": {},
   "outputs": [
    {
     "data": {
      "text/plain": [
       "datetime.datetime(2023, 6, 28, 20, 59, 32, 743726)"
      ]
     },
     "execution_count": 9,
     "metadata": {},
     "output_type": "execute_result"
    }
   ],
   "source": [
    "date = datetime.datetime.now()\n",
    "date"
   ]
  },
  {
   "cell_type": "markdown",
   "id": "49c9930f",
   "metadata": {},
   "source": [
    "# 4) write a python program which accepts the radius of a circle from the user and compute the area"
   ]
  },
  {
   "cell_type": "code",
   "execution_count": 10,
   "id": "3253edf0",
   "metadata": {},
   "outputs": [
    {
     "name": "stdout",
     "output_type": "stream",
     "text": [
      "Enter radius of circle : 45\n",
      "Area of the circle is: 6361.725123519331\n"
     ]
    }
   ],
   "source": [
    "from math import pi\n",
    "\n",
    "r = float(input (\"Enter radius of circle : \"))\n",
    "\n",
    "print (\"Area of the circle is: \" + str(pi * r**2))"
   ]
  },
  {
   "cell_type": "markdown",
   "id": "6d76ca97",
   "metadata": {},
   "source": [
    "# 5) write a python program which accepts the user's first name and last name and print them in revere order with the space between them"
   ]
  },
  {
   "cell_type": "code",
   "execution_count": 11,
   "id": "ef332a87",
   "metadata": {},
   "outputs": [
    {
     "name": "stdout",
     "output_type": "stream",
     "text": [
      "Enter you are first name: khushboo\n",
      "Enter you are last name: Saleem\n",
      "Saleem khushboo\n"
     ]
    }
   ],
   "source": [
    "first_name = input(\"Enter you are first name: \")\n",
    "last_name = input(\"Enter you are last name: \")\n",
    "print(last_name + \" \" + first_name)"
   ]
  },
  {
   "cell_type": "markdown",
   "id": "7bad3f4d",
   "metadata": {},
   "source": [
    "# 6) Write a python program which takes two input from user and print them addition"
   ]
  },
  {
   "cell_type": "code",
   "execution_count": 12,
   "id": "0fb24bf8",
   "metadata": {},
   "outputs": [
    {
     "name": "stdout",
     "output_type": "stream",
     "text": [
      "1st num: 45\n",
      "2nd num: 30\n",
      "Total:  75\n"
     ]
    }
   ],
   "source": [
    "num1 = int(input(\"1st num: \"))\n",
    "num2 = int(input(\"2nd num: \"))\n",
    "print(\"Total: \",num1 + num2)"
   ]
  },
  {
   "cell_type": "markdown",
   "id": "fbb6e1a8",
   "metadata": {},
   "source": [
    "## 7) write a program which takes a 5 inputs from user from different subject's marks, total it and generate marks sheet using grades?"
   ]
  },
  {
   "cell_type": "code",
   "execution_count": 13,
   "id": "d02d4ba6",
   "metadata": {},
   "outputs": [
    {
     "name": "stdout",
     "output_type": "stream",
     "text": [
      "Enter your eng marks: 100\n",
      "Enter your math marks: 80\n",
      "Enter your isl marks: 70\n",
      "Enter your phys marks: 90\n",
      "Enter your chem marks: 60\n"
     ]
    }
   ],
   "source": [
    "eng = int(input(\"Enter your eng marks: \"))\n",
    "math = int(input(\"Enter your math marks: \"))\n",
    "isl = int(input(\"Enter your isl marks: \"))\n",
    "phys = int(input(\"Enter your phys marks: \"))\n",
    "chem = int(input(\"Enter your chem marks: \"))\n"
   ]
  },
  {
   "cell_type": "code",
   "execution_count": 14,
   "id": "c339e221",
   "metadata": {},
   "outputs": [
    {
     "data": {
      "text/plain": [
       "400"
      ]
     },
     "execution_count": 14,
     "metadata": {},
     "output_type": "execute_result"
    }
   ],
   "source": [
    "total_marks = 500\n",
    "obtained_marks = eng + math + phys + chem + isl\n",
    "obtained_marks"
   ]
  },
  {
   "cell_type": "code",
   "execution_count": 15,
   "id": "afc35b53",
   "metadata": {},
   "outputs": [
    {
     "data": {
      "text/plain": [
       "80.0"
      ]
     },
     "execution_count": 15,
     "metadata": {},
     "output_type": "execute_result"
    }
   ],
   "source": [
    "perc = obtained_marks/total_marks * 100\n",
    "perc"
   ]
  },
  {
   "cell_type": "code",
   "execution_count": 16,
   "id": "71746b44",
   "metadata": {},
   "outputs": [
    {
     "name": "stdout",
     "output_type": "stream",
     "text": [
      "A+\n"
     ]
    }
   ],
   "source": [
    "if perc <= 100 and perc >= 80:\n",
    "    print(\"A+\")\n",
    "elif perc < 80 and perc >= 70:\n",
    "    print(\"A\")\n",
    "elif perc < 70 and perc >= 60:\n",
    "    print(\"B\")\n",
    "elif perc < 60 and perc >= 50:\n",
    "    print(\"C\")\n",
    "elif perc < 50 and perc >= 40:\n",
    "    print(\"D\")\n",
    "elif perc < 40 and perc >= 33:\n",
    "    print(\"E\")\n",
    "elif perc < 0 or perc > 100:\n",
    "    print(\"error\")\n",
    "else:\n",
    "    print(\"Fail\")"
   ]
  },
  {
   "cell_type": "markdown",
   "id": "ae30ea4d",
   "metadata": {},
   "source": [
    "# 8) write a program which take input from user and identify that the given number is odd or even"
   ]
  },
  {
   "cell_type": "code",
   "execution_count": 17,
   "id": "056e0eb4",
   "metadata": {},
   "outputs": [
    {
     "name": "stdout",
     "output_type": "stream",
     "text": [
      "Enter a number: 63\n",
      "63 is an odd number\n"
     ]
    }
   ],
   "source": [
    "number = int(input(\"Enter a number: \"))\n",
    "if number % 2 == 0:\n",
    "    print(number, \"is an even number\")\n",
    "else:\n",
    "    print(number, \"is an odd number\")\n"
   ]
  }
 ],
 "metadata": {
  "kernelspec": {
   "display_name": "Python 3 (ipykernel)",
   "language": "python",
   "name": "python3"
  },
  "language_info": {
   "codemirror_mode": {
    "name": "ipython",
    "version": 3
   },
   "file_extension": ".py",
   "mimetype": "text/x-python",
   "name": "python",
   "nbconvert_exporter": "python",
   "pygments_lexer": "ipython3",
   "version": "3.9.12"
  }
 },
 "nbformat": 4,
 "nbformat_minor": 5
}
